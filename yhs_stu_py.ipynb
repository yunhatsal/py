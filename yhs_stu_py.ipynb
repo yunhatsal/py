{
  "nbformat": 4,
  "nbformat_minor": 0,
  "metadata": {
    "colab": {
      "provenance": [],
      "authorship_tag": "ABX9TyN3Ka5JVjxxaFj6a+r/6PFH",
      "include_colab_link": true
    },
    "kernelspec": {
      "name": "python3",
      "display_name": "Python 3"
    },
    "language_info": {
      "name": "python"
    }
  },
  "cells": [
    {
      "cell_type": "markdown",
      "metadata": {
        "id": "view-in-github",
        "colab_type": "text"
      },
      "source": [
        "<a href=\"https://colab.research.google.com/github/yunhatsal/py/blob/main/yhs_stu_py.ipynb\" target=\"_parent\"><img src=\"https://colab.research.google.com/assets/colab-badge.svg\" alt=\"Open In Colab\"/></a>"
      ]
    },
    {
      "cell_type": "code",
      "execution_count": null,
      "metadata": {
        "id": "JD4X5lyoMYFc"
      },
      "outputs": [],
      "source": [
        "# 5명의 성적을 입력을 받아 평균을 내는 프로그램을 만든다.\n",
        "# 반복문과 조건문을 사용한다.\n",
        "# 변수는 total, counter, grade, average\n",
        "total = 0           # 변수 total은 0으로 선언하였다.\n",
        "counter = 1             # 변수 counter은 1로 선언\n",
        "while counter <= 10:        # 반복문 while을 사용하여 counter가 10보다 작거나 같을 때 다음 내부 문장으로 넘어간다.\n",
        "    grade = int(input(\"성적을 입력하시오.:\"))   #변수 grade의 int(정수형 변환)와 사용자로부터 입력을 받는 input을 사용하여 점수를 받는다.\n",
        "    total = grade + total           # 변수 total에 성적 grade와 total을 합한 값을 선언한다.\n",
        "    counter = counter + 1           # 변수 counter는 초기 선언한 counter의 값에 실행할 때마다 1씩 추가된다.\n",
        "average = total // 10            # 변수 average의 반복문에서 계산한 total 값을 10으로 나눈다.\n",
        "print(average)                    # 변수 average의 값을 출력합니다.\n",
        "#write by 윤햇살"
      ]
    },
    {
      "cell_type": "markdown",
      "source": [
        "이 코드는 5명의 성적을 입력받아 평균을 구하는 프로그램입니다.\n",
        "\n",
        "먼저 total 변수를 0으로 초기화합니다. 이 변수는 성적을 모두 더할 때 사용됩니다.\n",
        "\n",
        "counter 변수를 1로 초기화합니다. 이 변수는 입력받은 성적의 개수를 세기 위해 사용됩니다.\n",
        "\n",
        "while 반복문을 사용하여 counter가 10보다 작거나 같을 때까지 반복합니다.\n",
        "\n",
        "grade 변수에 사용자로부터 성적을 입력받습니다. input() 함수를 사용하여 성적을 문자열로 입력받고, int() 함수를 사용하여 정수형으로 변환합니다.\n",
        "\n",
        "total 변수에 입력받은 성적을 더합니다. 이렇게 하면 입력받은 성적의 총합을 구할 수 있습니다.\n",
        "\n",
        "counter 변수에 1을 더합니다. 이렇게 하면 입력받은 성적의 개수를 세는 역할을 합니다.\n",
        "\n",
        "반복문이 종료되면 total 값을 10으로 나누어 average 변수에 저장합니다. 이렇게 하면 입력받은 성적의 평균을 구할 수 있습니다.\n",
        "\n",
        "마지막으로 average 값을 출력합니다.\n",
        "\n",
        "이 코드는 입력받은 성적들의 평균을 구하는 프로그램입니다."
      ],
      "metadata": {
        "id": "sqwnk0LvMZQc"
      }
    }
  ]
}