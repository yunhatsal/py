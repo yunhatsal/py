{
  "nbformat": 4,
  "nbformat_minor": 0,
  "metadata": {
    "colab": {
      "provenance": [],
      "authorship_tag": "ABX9TyNpvSwYIzzxtexifOmfsah8",
      "include_colab_link": true
    },
    "kernelspec": {
      "name": "python3",
      "display_name": "Python 3"
    },
    "language_info": {
      "name": "python"
    }
  },
  "cells": [
    {
      "cell_type": "markdown",
      "metadata": {
        "id": "view-in-github",
        "colab_type": "text"
      },
      "source": [
        "<a href=\"https://colab.research.google.com/github/yunhatsal/py/blob/main/CTAB.ipynb\" target=\"_parent\"><img src=\"https://colab.research.google.com/assets/colab-badge.svg\" alt=\"Open In Colab\"/></a>"
      ]
    },
    {
      "cell_type": "markdown",
      "source": [
        "4. 사용자로부터 2개의 정수를 받아서 합계를 출력하시오.\n",
        "- 정수 x\n",
        "- 정수 y"
      ],
      "metadata": {
        "id": "nPTun93nVHJX"
      }
    },
    {
      "cell_type": "code",
      "source": [
        "print(\"정수 2개를 입력하시오.: \")  # 사용자에게 정수 2개를 입력받을 것임을 안내합니다.\n",
        "x = int(input(\"x의 값을 입력하시오.: \"))  # x의 값을 입력받습니다.\n",
        "y = int(input(\"y의 값을 입력하시오.: \"))  # y의 값을 입력받습니다.\n",
        "sum = x + y  # x와 y의 합을 구합니다.\n",
        "print(sum)  # 합을 출력합니다.\n",
        "print(f'{x} + {y} 의 값은 {sum}이다.')  # 덧셈 식과 결과를 출력합니다."
      ],
      "metadata": {
        "colab": {
          "base_uri": "https://localhost:8080/"
        },
        "id": "pHcBjGRkVSS1",
        "outputId": "36050ac1-c8f6-4eb2-a660-741b1b7d582f"
      },
      "execution_count": null,
      "outputs": [
        {
          "output_type": "stream",
          "name": "stdout",
          "text": [
            "정수 2개를 입력하시오.: \n",
            "x의 값을 입력하시오.: 5\n",
            "y의 값을 입력하시오.: 6\n",
            "11\n",
            "5 + 6 의 값은 11이다.\n"
          ]
        }
      ]
    },
    {
      "cell_type": "markdown",
      "source": [
        "이 코드는 사용자로부터 두 개의 정수를 입력받아 합을 구하고 출력하는 코드입니다.\n",
        "\n",
        "먼저, \"정수 2개를 입력하시오.: \"라는 문구를 출력하여 사용자에게 정수 2개를 입력받을 것임을 안내합니다.\n",
        "\n",
        "다음으로, input() 함수를 사용하여 사용자로부터 x와 y의 값을 입력받습니다. 입력받은 값을 int() 함수를 사용하여 정수형으로 변환합니다.\n",
        "\n",
        "sum 변수에 x와 y의 합을 저장합니다.\n",
        "\n",
        "print() 함수를 사용하여 sum 변수의 값을 출력합니다.\n",
        "\n",
        "마지막으로, f-string을 사용하여 {x} + {y} 의 값은 {sum}이다.라는 형식으로 덧셈 식과 결과를 출력합니다. f-string은 중괄호 안에 변수를 넣어 문자열을 포맷팅하는 기능입니다.\n",
        "\n",
        "이렇게 코드를 작성하면 사용자가 입력한 두 정수의 합을 구하고 출력할 수 있습니다."
      ],
      "metadata": {
        "id": "eg8_rKjAv7ER"
      }
    },
    {
      "cell_type": "markdown",
      "source": [
        "5. 부가세를 계산하시오.\n",
        "- 상품의 가격 (price)\n",
        "- 부가세 (vat)"
      ],
      "metadata": {
        "id": "n8-AKOnEV3Hz"
      }
    },
    {
      "cell_type": "code",
      "source": [
        "print(\"상품의 가격을 입력하시오.: \")  # 사용자에게 상품의 가격을 입력받을 것임을 안내합니다.\n",
        "price = int(input(\"상품의 가격: \"))  # 상품의 가격을 입력받습니다.\n",
        "vat = price * 0.1  # 부가세를 계산합니다. (가격의 10%)\n",
        "print(vat)  # 부가세를 출력합니다.\n",
        "print(f'상품의 가격은 {price}이며, 부가세는 {vat}이다.')  # 상품 가격과 부가세를 출력합니다."
      ],
      "metadata": {
        "colab": {
          "base_uri": "https://localhost:8080/"
        },
        "id": "gQfYgtlcWOtO",
        "outputId": "03364b3e-f10e-4e02-bcff-5217cc191484"
      },
      "execution_count": null,
      "outputs": [
        {
          "output_type": "stream",
          "name": "stdout",
          "text": [
            "상품의 가격을 입력하시오.: \n",
            "상품의 가격: 5000\n",
            "500.0\n",
            "상품의 가격은 5000이며, 부가세는 500.0이다.\n"
          ]
        }
      ]
    },
    {
      "cell_type": "markdown",
      "source": [
        "이 코드는 사용자로부터 상품의 가격을 입력받아 부가세를 계산하고 출력하는 코드입니다.\n",
        "\n",
        "먼저, \"상품의 가격을 입력하시오.: \"라는 문구를 출력하여 사용자에게 상품의 가격을 입력받을 것임을 안내합니다.\n",
        "\n",
        "다음으로, input() 함수를 사용하여 사용자로부터 상품의 가격을 입력받습니다. 입력받은 값을 int() 함수를 사용하여 정수형으로 변환합니다.\n",
        "\n",
        "vat 변수에는 상품 가격의 10%인 부가세를 계산하여 저장합니다.\n",
        "\n",
        "print() 함수를 사용하여 vat 변수의 값을 출력합니다.\n",
        "\n",
        "마지막으로, f-string을 사용하여 상품의 가격과 부가세를 출력합니다.\n",
        "\n",
        "이렇게 코드를 작성하면 사용자가 입력한 상품 가격에 대해 부가세를 계산하고 출력할 수 있습니다."
      ],
      "metadata": {
        "id": "BJsSZSjjwFsx"
      }
    }
  ]
}