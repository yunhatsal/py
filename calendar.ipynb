{
  "nbformat": 4,
  "nbformat_minor": 0,
  "metadata": {
    "colab": {
      "provenance": [],
      "authorship_tag": "ABX9TyOIWmw3zOPBNuTKkpMqoIFK",
      "include_colab_link": true
    },
    "kernelspec": {
      "name": "python3",
      "display_name": "Python 3"
    },
    "language_info": {
      "name": "python"
    }
  },
  "cells": [
    {
      "cell_type": "markdown",
      "metadata": {
        "id": "view-in-github",
        "colab_type": "text"
      },
      "source": [
        "<a href=\"https://colab.research.google.com/github/yunhatsal/py/blob/main/calendar.ipynb\" target=\"_parent\"><img src=\"https://colab.research.google.com/assets/colab-badge.svg\" alt=\"Open In Colab\"/></a>"
      ]
    },
    {
      "cell_type": "code",
      "execution_count": null,
      "metadata": {
        "colab": {
          "base_uri": "https://localhost:8080/"
        },
        "id": "PQ0LqjPmY7s1",
        "outputId": "cbab80b9-6942-488c-84ef-6aeeec65b802"
      },
      "outputs": [
        {
          "output_type": "stream",
          "name": "stdout",
          "text": [
            "    October 2023\n",
            "Mo Tu We Th Fr Sa Su\n",
            "                   1\n",
            " 2  3  4  5  6  7  8\n",
            " 9 10 11 12 13 14 15\n",
            "16 17 18 19 20 21 22\n",
            "23 24 25 26 27 28 29\n",
            "30 31\n",
            "\n"
          ]
        }
      ],
      "source": [
        "import calendar\n",
        "# 연도와 월을 지정합니다.\n",
        "yy = 2023   # 연도\n",
        "mm = 10     # 월\n",
        "print(calendar.month(yy, mm)) # calendar.month() 함수를 사용하여 해당 연도와 월에 해당하는 달력을 출력합니다."
      ]
    },
    {
      "cell_type": "markdown",
      "source": [
        "먼저, calendar 모듈을 import하여 사용할 수 있도록 준비합니다.\n",
        "\n",
        "다음으로, yy 변수에는 출력할 연도를, mm 변수에는 출력할 월을 지정합니다. 예시 코드에서는 2023년 10월을 출력하기 위해 yy = 2023과 mm = 10을 사용하였습니다.\n",
        "\n",
        "마지막으로, calendar.month() 함수를 사용하여 지정한 연도와 월에 해당하는 달력을 출력합니다. print(calendar.month(yy, mm)) 코드는 해당 연도와 월에 해당하는 달력을 텍스트 형식으로 출력합니다.\n",
        "\n",
        "이렇게 코드를 작성하면 특정 연도와 월에 해당하는 달력을 출력할 수 있습니다."
      ],
      "metadata": {
        "id": "vJVb29My3m4U"
      }
    },
    {
      "cell_type": "markdown",
      "source": [
        "#오늘의 todo list를 출력해라\n",
        "print(\"2023년 10월 19일 To Do List\")\n",
        "\n"
      ],
      "metadata": {
        "id": "Ku6PgopJcI8q"
      }
    },
    {
      "cell_type": "code",
      "source": [
        "#오늘의 todo list를 출력해라\n",
        "print(\"2023년 10월 19일 To Do List\")  # \"2023년 10월 19일 To Do List\"라는 메시지를 출력합니다.\n",
        "print(\"09:10~11:00 컴퓨팅적사고와 기초코딩\")  # \"09:10~11:00 컴퓨팅적사고와 기초코딩\"라는 메시지를 출력합니다.\n",
        "print(\"11:10~12:00 아동건강교육\")  # \"11:10~12:00 아동건강교육\"이라는 메시지를 출력합니다.\n",
        "print(\"12:00~14:00 점심\")  # \"12:00~14:00 점심\"이라는 메시지를 출력합니다.\n",
        "print(\"14:00~16:00 휴식 및 공부\")  # \"14:00~16:00 휴식 및 공부\"라는 메시지를 출력합니다.\n",
        "print(\"16:00~15:30 하교\")  # \"16:00~15:30 하교\"라는 메시지를 출력합니다.\n",
        "print(\"18:00~19:00 저녁\")  # \"18:00~19:00 저녁\"이라는 메시지를 출력합니다.\n",
        "print(\"19:30~23:00 공부\")  # \"19:30~23:00 공부\"라는 메시지를 출력합니다.\n",
        "print(\"23:00~24:00 휴식\")  # \"23:00~24:00 휴식\"이라는 메시지를 출력합니다.\n",
        "print(\"24:00~ 취침\")  # \"24:00~ 취침\"이라는 메시지를 출력합니다."
      ],
      "metadata": {
        "colab": {
          "base_uri": "https://localhost:8080/"
        },
        "id": "oDn0YOxHdZXU",
        "outputId": "bae718fa-398f-424a-f220-7291bab77c97"
      },
      "execution_count": null,
      "outputs": [
        {
          "output_type": "stream",
          "name": "stdout",
          "text": [
            "2023년 10월 19일 To Do List\n",
            "09:10~11:00 컴퓨팅적사고와 기초코딩\n",
            "11:10~12:00 아동건강교육\n",
            "12:00~14:00 점심\n",
            "14:00~16:00 휴식 및 공부\n",
            "16:00~15:30 하교\n",
            "18:00~19:00 저녁\n",
            "19:30~23:00 공부\n",
            "23:00~24:00 휴식\n",
            "24:00~ 취침\n"
          ]
        }
      ]
    },
    {
      "cell_type": "markdown",
      "source": [
        "위 코드는 2023년 10월 19일의 To Do List를 출력하는 코드입니다. 각 줄마다 주석을 달아 일정에 대한 설명을 추가하였습니다."
      ],
      "metadata": {
        "id": "WkVFgsMr-Pra"
      }
    }
  ]
}