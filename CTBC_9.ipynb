{
  "nbformat": 4,
  "nbformat_minor": 0,
  "metadata": {
    "colab": {
      "provenance": [],
      "authorship_tag": "ABX9TyMOFpXCGdi1a0HBhocewdFr",
      "include_colab_link": true
    },
    "kernelspec": {
      "name": "python3",
      "display_name": "Python 3"
    },
    "language_info": {
      "name": "python"
    }
  },
  "cells": [
    {
      "cell_type": "markdown",
      "metadata": {
        "id": "view-in-github",
        "colab_type": "text"
      },
      "source": [
        "<a href=\"https://colab.research.google.com/github/yunhatsal/py/blob/main/CTBC_9.ipynb\" target=\"_parent\"><img src=\"https://colab.research.google.com/assets/colab-badge.svg\" alt=\"Open In Colab\"/></a>"
      ]
    },
    {
      "cell_type": "markdown",
      "source": [
        "1. 두가지 이상의 선택, 다방향 선택구조 코딩\n",
        "- 배송료 처리 3가지로 코딩\n",
        "- 변수 : price\n",
        "- 조건 : 10만원 이상은 배송비 0, 2만원 이상은 3천원, 2만원 이하는 5천원"
      ],
      "metadata": {
        "id": "i-zyOG08rMsE"
      }
    },
    {
      "cell_type": "code",
      "source": [
        "price = int(input(\"구입금액 입력: \"))         #변수 price 사용자가 정수형 금액 입력\n",
        "if price >= 100000:                           # price의 값이 10만원보다 크거나 같으면\n",
        "  shipping_cost = 0                           # 선택1. 배송료(shipping_cost)는 0원\n",
        "else:                                         # 그게 아니면\n",
        "  if price >= 20000:                          # 선택2. price값이 2만원보다 크거나 같으면\n",
        "    shipping_cost = 3000                      # 배송료(shipping_cost)는 3000원\n",
        "  else:                                       # 그것도 아니면\n",
        "    shipping_cost = 5000                      # 선택3. 배송료(shipping_cost)는 5000원\n",
        "print(f'배송료는 {shipping_cost}원 입니다.')  # F-String문자 Format으로 최종 배송료 출력\n"
      ],
      "metadata": {
        "colab": {
          "base_uri": "https://localhost:8080/"
        },
        "id": "IVjKTQ_UzBtG",
        "outputId": "61bdbcc5-dd12-4022-d3ff-57bbc9249181"
      },
      "execution_count": null,
      "outputs": [
        {
          "output_type": "stream",
          "name": "stdout",
          "text": [
            "구입금액 입력: 25000\n",
            "배송료는 3000원 입니다.\n"
          ]
        }
      ]
    },
    {
      "cell_type": "markdown",
      "source": [
        "위 코드는 사용자로부터 구입금액을 입력받아서 배송료를 계산하는 코드입니다. 구입금액에 따라서 배송료가 다르게 책정됩니다.\n",
        "\n",
        "만약 구입금액이 100,000원 이상이라면 배송료는 0원입니다.\n",
        "구입금액이 20,000원 이상이고 100,000원 미만이라면 배송료는 3,000원입니다.\n",
        "그 외의 경우에는 배송료가 5,000원으로 책정됩니다.\n",
        "최종 배송료를 출력합니다"
      ],
      "metadata": {
        "id": "cSvgMqm8_Gfs"
      }
    },
    {
      "cell_type": "markdown",
      "source": [
        "2. 반복구조를 이용한 \"환영합니다.\"를 5번 출력하는 코드작성\n",
        "- 변수 : Welcome\n",
        "- 출력내용 : 환영합니다.를 세로로 5번, 10번, 30번\n"
      ],
      "metadata": {
        "id": "vIbH8pn9yoo3"
      }
    },
    {
      "cell_type": "code",
      "source": [
        "print(\"환영합니다.\")  # \"환영합니다.\"라는 메시지를 출력합니다.\n",
        "print(\"환영합니다.\")  # \"환영합니다.\"라는 메시지를 출력합니다.\n",
        "print(\"환영합니다.\")  # \"환영합니다.\"라는 메시지를 출력합니다.\n",
        "print(\"환영합니다.\")  # \"환영합니다.\"라는 메시지를 출력합니다.\n",
        "print(\"환영합니다.\")  # \"환영합니다.\"라는 메시지를 출력합니다."
      ],
      "metadata": {
        "id": "0EaDWUkXy9W8"
      },
      "execution_count": null,
      "outputs": []
    },
    {
      "cell_type": "markdown",
      "source": [
        "위 코드는 \"환영합니다.\"라는 메시지를 각 줄마다 출력하는 코드입니다."
      ],
      "metadata": {
        "id": "NqspyAC2_Tih"
      }
    },
    {
      "cell_type": "code",
      "source": [
        "print(\"환영합니다.\\n\" *5) # \"환영합니다.\"라는 메시지를 5번 반복하여 출력합니다."
      ],
      "metadata": {
        "colab": {
          "base_uri": "https://localhost:8080/"
        },
        "id": "RwvsxyIzzH8k",
        "outputId": "1b2660c3-93cc-4704-eb31-f904833cb793"
      },
      "execution_count": null,
      "outputs": [
        {
          "output_type": "stream",
          "name": "stdout",
          "text": [
            "환영합니다.\n",
            "환영합니다.\n",
            "환영합니다.\n",
            "환영합니다.\n",
            "환영합니다.\n",
            "\n"
          ]
        }
      ]
    },
    {
      "cell_type": "markdown",
      "source": [
        "위 코드는 \"환영합니다.\"라는 메시지를 5번 출력하는 코드입니다. * 연산자를 사용하여 문자열을 반복 출력합니다"
      ],
      "metadata": {
        "id": "NyeNvW8Z_jMS"
      }
    },
    {
      "cell_type": "code",
      "source": [
        "count = 1  # 초기 카운트 변수를 1로 설정합니다.\n",
        "while count <= 5:  # count가 5 이하인 동안 반복합니다.\n",
        "  print(\"(\", count, \")\", \"환영합니다. \")  # count와 \"환영합니다.\" 메시지를 출력합니다.\n",
        "  count = count + 1  # count 값을 1씩 증가시킵니다."
      ],
      "metadata": {
        "colab": {
          "base_uri": "https://localhost:8080/"
        },
        "id": "WB1xVI5fzmh_",
        "outputId": "55ccd70d-cf37-4768-c0ea-dc9abad47cb6"
      },
      "execution_count": null,
      "outputs": [
        {
          "output_type": "stream",
          "name": "stdout",
          "text": [
            "( 1 ) 환영합니다. \n",
            "( 2 ) 환영합니다. \n",
            "( 3 ) 환영합니다. \n",
            "( 4 ) 환영합니다. \n",
            "( 5 ) 환영합니다. \n"
          ]
        }
      ]
    },
    {
      "cell_type": "markdown",
      "source": [
        "위 코드는 초기 count 변수를 1로 설정하고, while 반복문을 사용하여 count가 5 이하인 동안 반복합니다. 각 반복마다 count와 \"환영합니다.\" 메시지를 출력하고, count 값을 1씩 증가시킵니다."
      ],
      "metadata": {
        "id": "3pYr8Ycj_92y"
      }
    },
    {
      "cell_type": "markdown",
      "source": [
        "3. 0부터 9까지 출력하는 코드 작성\n",
        "- 변수 : x"
      ],
      "metadata": {
        "id": "Jsx5X6N51fjC"
      }
    },
    {
      "cell_type": "code",
      "source": [
        "x = 0  # 변수 x를 0으로 초기화합니다.\n",
        "while x < 10:  # x가 10보다 작은 동안 반복합니다.\n",
        "  #print(x)  # x 값을 출력합니다. (주석 처리된 부분)\n",
        "  print(x, end=' ')  # x 값을 출력하고, 줄바꿈 대신 공백으로 끝을 설정합니다.\n",
        "  x = x + 1  # x 값을 1씩 증가시킵니다."
      ],
      "metadata": {
        "colab": {
          "base_uri": "https://localhost:8080/"
        },
        "id": "7V3DEecy1mM3",
        "outputId": "c562d9cf-8c96-45cd-b430-687f34b8536b"
      },
      "execution_count": null,
      "outputs": [
        {
          "output_type": "stream",
          "name": "stdout",
          "text": [
            "0 1 2 3 4 5 6 7 8 9 "
          ]
        }
      ]
    },
    {
      "cell_type": "markdown",
      "source": [
        "위 코드는 변수 x를 0으로 초기화하고, while 반복문을 사용하여 x가 10보다 작은 동안 반복합니다. 각 반복마다 x 값을 출력하고, 줄바꿈 대신 공백으로 끝을 설정하여 출력합니다. 그리고 x 값을 1씩 증가시킵니다."
      ],
      "metadata": {
        "id": "txDveuuoANIa"
      }
    },
    {
      "cell_type": "code",
      "source": [
        "x = 0  # 변수 x를 0으로 초기화합니다.\n",
        "while x <= 9:  # x가 9 이하인 동안 반복합니다.\n",
        "  print(x, end=' ')  # x 값을 출력하고, 줄바꿈 대신 공백으로 끝을 설정합니다.\n",
        "  x += 1  # x 값을 1씩 증가시킵니다."
      ],
      "metadata": {
        "colab": {
          "base_uri": "https://localhost:8080/"
        },
        "id": "iq7k0AAq3rB9",
        "outputId": "e6d3c111-9e9c-4662-929c-5daecd33e502"
      },
      "execution_count": null,
      "outputs": [
        {
          "output_type": "stream",
          "name": "stdout",
          "text": [
            "0 1 2 3 4 5 6 7 8 9 "
          ]
        }
      ]
    },
    {
      "cell_type": "markdown",
      "source": [
        "위 코드는 변수 x를 0으로 초기화하고, while 반복문을 사용하여 x가 9 이하인 동안 반복합니다. 각 반복마다 x 값을 출력하고, 줄바꿈 대신 공백으로 끝을 설정하여 출력합니다. 그리고 x 값을 1씩 증가시킵니다."
      ],
      "metadata": {
        "id": "RUyxNIiPAXyj"
      }
    },
    {
      "cell_type": "markdown",
      "source": [
        "4. 1부터 10까지 합산하는 코드작성"
      ],
      "metadata": {
        "id": "JMQlobUT3Cjg"
      }
    },
    {
      "cell_type": "code",
      "source": [
        "x = 1  # 변수 x를 1로 초기화합니다.\n",
        "total = 0  # 변수 total을 0으로 초기화합니다.\n",
        "while x <= 10:  # x가 10 이하인 동안 반복합니다.\n",
        "  total += x  # total에 x 값을 더합니다.\n",
        "  #total = total + 1  # (주석 처리된 부분) total에 1을 더합니다.\n",
        "  #x = x + 1  # (주석 처리된 부분) x 값을 1씩 증가시킵니다.\n",
        "  x += 1  # x 값을 1씩 증가시킵니다.\n",
        "print(total)  # total 값을 출력합니다."
      ],
      "metadata": {
        "colab": {
          "base_uri": "https://localhost:8080/"
        },
        "id": "jQTeqQMx3Hzz",
        "outputId": "3789dca1-24ee-4c1e-a581-5894a3fb5733"
      },
      "execution_count": null,
      "outputs": [
        {
          "output_type": "stream",
          "name": "stdout",
          "text": [
            "55\n"
          ]
        }
      ]
    },
    {
      "cell_type": "markdown",
      "source": [
        "위 코드는 변수 x를 1로 초기화하고, 변수 total을 0으로 초기화합니다. while 반복문을 사용하여 x가 10 이하인 동안 반복합니다. 각 반복마다 total에 x 값을 더합니다. 주석 처리된 부분은 total과 x 값을 각각 1씩 증가시키는 부분이며, 현재 주석 처리되어 있습니다. 마지막으로 total 값을 출력합니다."
      ],
      "metadata": {
        "id": "9BeAX2J8AiDS"
      }
    },
    {
      "cell_type": "markdown",
      "source": [
        "5. 3-6-9 게임(3의 배수 판단) : 3의 배수를 3으로 나누면 나머지가 0이 되므로(i mod 3)의 값이 0이면 박수를 출력, 아니면 숫자 출력하는 코드"
      ],
      "metadata": {
        "id": "LALN_FlX4JU2"
      }
    },
    {
      "cell_type": "code",
      "source": [
        "for num in range(1, 21):  # 1부터 20까지의 숫자에 대해 반복합니다.\n",
        "  if num % 3 == 0:  # num이 3으로 나누어 떨어지는지 확인합니다.\n",
        "    print(\"박수\", end=' ')  # 3으로 나누어 떨어지면 \"박수\"를 출력합니다.\n",
        "  else:\n",
        "    print(num, end=' ')  # 3으로 나누어 떨어지지 않으면 num을 출력합니다."
      ],
      "metadata": {
        "colab": {
          "base_uri": "https://localhost:8080/"
        },
        "id": "ieVmMHYF4ouO",
        "outputId": "9c6f97bc-7f66-4f92-f05f-11274af0a8bb"
      },
      "execution_count": null,
      "outputs": [
        {
          "output_type": "stream",
          "name": "stdout",
          "text": [
            "1 2 박수 4 5 박수 7 8 박수 10 11 박수 13 14 박수 16 17 박수 19 20 "
          ]
        }
      ]
    },
    {
      "cell_type": "markdown",
      "source": [
        "위 코드는 1부터 20까지의 숫자에 대해 반복하는 for 반복문을 사용합니다. 각 숫자에 대해 if 문을 사용하여 숫자가 3으로 나누어 떨어지는지 확인합니다. 만약 3으로 나누어 떨어지면 \"박수\"를 출력하고, 나머지 경우에는 숫자를 출력합니다. 출력 시 줄바꿈 대신 공백으로 끝을 설정합니다"
      ],
      "metadata": {
        "id": "zELcUckYAobi"
      }
    },
    {
      "cell_type": "code",
      "source": [
        "num = 1  # 변수 num을 1로 초기화합니다.\n",
        "while num <= 20:  # num이 20보다 작거나 같은 동안 반복합니다.\n",
        "    if num % 3 == 0:  # 만약 num을 3으로 나눈 나머지가 0이라면 (num이 3의 배수라면)\n",
        "        print(\"박수\", end=' ')  # \"박수\"를 출력합니다. end=' '는 줄바꿈 없이 공백으로 분리해서 출력하게 합니다.\n",
        "    else:\n",
        "        print(num, end=' ')  # 그 외의 경우에는 num을 출력합니다.\n",
        "    num += 1  # num을 1씩 증가시킵니다."
      ],
      "metadata": {
        "colab": {
          "base_uri": "https://localhost:8080/"
        },
        "id": "sAiRa77K5Tr-",
        "outputId": "1db5097d-a725-44c4-ccb1-1dd158d5f4a2"
      },
      "execution_count": null,
      "outputs": [
        {
          "output_type": "stream",
          "name": "stdout",
          "text": [
            "1 2 박수 4 5 박수 7 8 박수 10 11 박수 13 14 박수 16 17 박수 19 20 "
          ]
        }
      ]
    },
    {
      "cell_type": "markdown",
      "source": [
        "이 코드는 1부터 20까지의 숫자를 출력하면서, 숫자가 3의 배수인 경우에는 대신 \"박수\"를 출력하는 예제입니다. 코드를 간단히 설명하면 다음과 같습니다:\n",
        "\n",
        "먼저 num이라는 변수를 1로 초기화합니다.\n",
        "while문을 사용하여 num이 20보다 작거나 같은 동안 반복합니다.\n",
        "if문을 사용하여 num을 3으로 나눈 나머지가 0인지 확인합니다. 만약 0이라면 (즉, num이 3의 배수라면), \"박수\"를 출력합니다.\n",
        "그렇지 않은 경우에는 num을 출력합니다.\n",
        "마지막으로 num을 1씩 증가시킵니다.\n",
        "따라서 이 코드를 실행하면 1부터 20까지의 숫자를 출력하면서 3의 배수인 경우에는 대신 \"박수\"를 출력하게 됩니다."
      ],
      "metadata": {
        "id": "8D9YdB8Od_5F"
      }
    },
    {
      "cell_type": "markdown",
      "source": [
        "6. 팩토리얼 계산하는 코드 작성\n",
        "- 1! = 1, 2!=2(1)=2, 3!=3(2)(1)=6"
      ],
      "metadata": {
        "id": "_8HJm_pabvFB"
      }
    },
    {
      "cell_type": "code",
      "source": [
        "i = 5  # 변수 i를 5로 초기화합니다.\n",
        "factorial = 1  # 변수 factorial을 1로 초기화합니다.\n",
        "while i >= 1:  # i가 1 이상인 동안 반복합니다.\n",
        "    factorial *= i  # factorial에 i를 곱하여 factorial 값을 업데이트합니다.\n",
        "    i -= 1  # i를 1씩 감소시킵니다.\n",
        "print(factorial)  # 최종적인 factorial 값을 출력합니다."
      ],
      "metadata": {
        "colab": {
          "base_uri": "https://localhost:8080/"
        },
        "id": "NjopgoKLcUG2",
        "outputId": "9e76b6b9-ed42-4d45-de86-965446bc4724"
      },
      "execution_count": null,
      "outputs": [
        {
          "output_type": "stream",
          "name": "stdout",
          "text": [
            "120\n"
          ]
        }
      ]
    },
    {
      "cell_type": "markdown",
      "source": [
        "이 코드는 5부터 1까지의 숫자를 이용하여 팩토리얼 값을 계산하는 예제입니다. 코드를 간단히 설명하면 다음과 같습니다:\n",
        "\n",
        "먼저 i라는 변수를 5로 초기화합니다.\n",
        "factorial이라는 변수를 1로 초기화합니다. 팩토리얼 값을 저장할 변수입니다.\n",
        "while문을 사용하여 i가 1 이상인 동안 반복합니다.\n",
        "반복문 내부에서 factorial에 i를 곱하여 factorial 값을 업데이트합니다.\n",
        "i를 1씩 감소시킵니다.\n",
        "반복이 끝나면 최종적인 factorial 값을 출력합니다.\n",
        "따라서 이 코드를 실행하면 factorial 변수에는 5부터 1까지의 숫자를 모두 곱한 결과인 120이 저장되며, 이 값이 출력됩니다."
      ],
      "metadata": {
        "id": "zTARWsG3ec0A"
      }
    },
    {
      "cell_type": "code",
      "source": [
        "# 계산할 숫자를 입력받습니다.\n",
        "num = int(input(\"팩토리얼을 계산할 숫자를 입력하시오.: \"))\n",
        "\n",
        "# 초기값으로 1을 설정합니다.\n",
        "factorial = 1\n",
        "\n",
        "# 팩토리얼 계산을 위한 반복문인 while입니다.\n",
        "while num >= 1:                 # num값이 1보다 작거나 같을 때 하위 문장(코드)을 진행\n",
        "  factorial = factorial * num   # 현재 num값을 factorial값에 곱해줍니다.\n",
        "  num -= 1                      # num값을 1씩 감소시킵니다.\n",
        "\n",
        "print(f'계산된 팩토리얼 값은 {factorial} 입니다.') # 계산된 팩토리얼 값을 출력합니다."
      ],
      "metadata": {
        "colab": {
          "base_uri": "https://localhost:8080/"
        },
        "id": "9Fkbx0XTcnKH",
        "outputId": "ae6134b0-356a-4678-d5a3-443fdcde8681"
      },
      "execution_count": null,
      "outputs": [
        {
          "output_type": "stream",
          "name": "stdout",
          "text": [
            "팩토리얼을 계산할 숫자를 입력하시오.: 5\n",
            "계산된 팩토리얼 값은 120 입니다.\n"
          ]
        }
      ]
    },
    {
      "cell_type": "markdown",
      "source": [
        "이 코드는 사용자로부터 입력받은 숫자의 팩토리얼 값을 계산하는 코드입니다.\n",
        "\n",
        "먼저, input() 함수를 사용하여 사용자로부터 숫자를 입력받습니다. 입력받은 값은 int() 함수를 사용하여 정수형으로 변환합니다.\n",
        "\n",
        "다음으로, factorial 변수를 1로 초기화합니다. 이 변수는 팩토리얼 값을 저장할 변수입니다.\n",
        "\n",
        "그 후, while 반복문을 사용하여 num 값이 1보다 크거나 같을 때까지 아래의 코드를 반복합니다.\n",
        "\n",
        "안쪽의 코드는 현재 num 값을 factorial 값에 곱해주고, num 값을 1씩 감소시킵니다. 이렇게 하면 num 값이 1씩 감소하면서 팩토리얼 값을 계산할 수 있습니다.\n",
        "\n",
        "마지막으로, 계산된 팩토리얼 값을 출력합니다.\n",
        "\n",
        "이렇게 코드를 작성하면 사용자로부터 입력받은 숫자의 팩토리얼 값을 계산하고 출력할 수 있습니다."
      ],
      "metadata": {
        "id": "koaOjd2ztiKx"
      }
    },
    {
      "cell_type": "markdown",
      "source": [
        "7. 구구단 출력해주는 코드 작성\n",
        "- 변수 : dan\n",
        "- 반복문(1) : for문 사용\n",
        "- 반복문(2) : while문 사용"
      ],
      "metadata": {
        "id": "ZWgY4pIae4BJ"
      }
    },
    {
      "cell_type": "code",
      "source": [
        "# for문 사용\n",
        "dan = int(input(\"구구단에서 몇 단을 출력할까요: \"))  # 사용자로부터 출력할 단을 입력받습니다.\n",
        "for i in range(1, 10):\n",
        "    print(dan, \"x\", i, \"=\", dan * i)  # 구구단 계산식을 출력합니다."
      ],
      "metadata": {
        "colab": {
          "base_uri": "https://localhost:8080/"
        },
        "id": "XdqCitkUfMW2",
        "outputId": "9d98445f-aacc-4853-80ca-42f7a3fb334f"
      },
      "execution_count": null,
      "outputs": [
        {
          "output_type": "stream",
          "name": "stdout",
          "text": [
            "구구단에서 몇 단을 출력할까요: 4\n",
            "4 x 1 = 4\n",
            "4 x 2 = 8\n",
            "4 x 3 = 12\n",
            "4 x 4 = 16\n",
            "4 x 5 = 20\n",
            "4 x 6 = 24\n",
            "4 x 7 = 28\n",
            "4 x 8 = 32\n",
            "4 x 9 = 36\n"
          ]
        }
      ]
    },
    {
      "cell_type": "markdown",
      "source": [
        "이 코드는 사용자로부터 입력받은 숫자에 해당하는 구구단을 출력하는 코드입니다.\n",
        "\n",
        "먼저, input() 함수를 사용하여 사용자로부터 출력할 단을 입력받습니다. 입력받은 값은 int() 함수를 사용하여 정수형으로 변환합니다.\n",
        "\n",
        "그 후, for 반복문을 사용하여 1부터 9까지의 범위를 순회합니다. range(1, 10)은 1부터 9까지의 숫자를 나타냅니다.\n",
        "\n",
        "반복문 내부에서는 print() 함수를 사용하여 구구단 계산식을 출력합니다. dan은 사용자가 입력한 단의 숫자이며, i는 반복문에서 순회하는 변수입니다. 따라서 dan * i는 구구단의 계산 결과를 나타냅니다.\n",
        "\n",
        "이렇게 코드를 작성하면 사용자가 입력한 숫자에 해당하는 구구단을 출력할 수 있습니다."
      ],
      "metadata": {
        "id": "ILPUji8yuCDo"
      }
    },
    {
      "cell_type": "code",
      "source": [
        "# while문 사용\n",
        "dan = int(input(\"구구단에서 몇 단을 출력할래?: \"))  # 사용자로부터 출력할 단을 입력받습니다.\n",
        "i = 1  # 초기값으로 1을 설정합니다.\n",
        "while i <= 9:  # i가 9보다 작거나 같을 때까지 반복합니다.\n",
        "    print(dan, \"x\", i, \"=\", dan * i)  # 구구단 계산식을 출력합니다.\n",
        "    i += 1  # i 값을 1씩 증가시킵니다."
      ],
      "metadata": {
        "colab": {
          "base_uri": "https://localhost:8080/"
        },
        "id": "PiRELAIff2uv",
        "outputId": "9ae4b96d-4a93-46a8-9d35-378325e0df0e"
      },
      "execution_count": null,
      "outputs": [
        {
          "output_type": "stream",
          "name": "stdout",
          "text": [
            "구구단에서 몇 단을 출력할래?: 4\n",
            "4 x 1 = 4\n",
            "4 x 2 = 8\n",
            "4 x 3 = 12\n",
            "4 x 4 = 16\n",
            "4 x 5 = 20\n",
            "4 x 6 = 24\n",
            "4 x 7 = 28\n",
            "4 x 8 = 32\n",
            "4 x 9 = 36\n"
          ]
        }
      ]
    },
    {
      "cell_type": "markdown",
      "source": [
        "이 코드는 사용자로부터 입력받은 숫자에 해당하는 구구단을 출력하는 코드입니다.\n",
        "\n",
        "먼저, input() 함수를 사용하여 사용자로부터 출력할 단을 입력받습니다. 입력받은 값은 int() 함수를 사용하여 정수형으로 변환합니다.\n",
        "\n",
        "다음으로, i 변수를 1로 초기화합니다. 이 변수는 반복문에서 순회하는 변수로서, 구구단의 곱셈을 위해 사용됩니다.\n",
        "\n",
        "while 반복문은 i가 9보다 작거나 같을 때까지 반복합니다. 구구단은 1부터 9까지의 숫자를 곱하는 것이므로, 1부터 9까지의 범위를 순회하도록 설정합니다.\n",
        "\n",
        "반복문 내부에서는 print() 함수를 사용하여 구구단 계산식을 출력합니다. dan은 사용자가 입력한 단의 숫자이며, i는 반복문에서 순회하는 변수입니다. 따라서 dan * i는 구구단의 계산 결과를 나타냅니다.\n",
        "\n",
        "마지막으로, i 값을 1씩 증가시켜줍니다. 이렇게 하면 다음 순회 때 다음 숫자의 구구단을 출력할 수 있습니다.\n",
        "\n",
        "이렇게 코드를 작성하면 사용자가 입력한 숫자에 해당하는 구구단을 출력할 수 있습니다."
      ],
      "metadata": {
        "id": "oSiRNWEuuQkI"
      }
    }
  ]
}