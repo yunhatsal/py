{
  "nbformat": 4,
  "nbformat_minor": 0,
  "metadata": {
    "colab": {
      "provenance": [],
      "authorship_tag": "ABX9TyNm+Iv1AKXsmUEzCW+pk9fV",
      "include_colab_link": true
    },
    "kernelspec": {
      "name": "python3",
      "display_name": "Python 3"
    },
    "language_info": {
      "name": "python"
    }
  },
  "cells": [
    {
      "cell_type": "markdown",
      "metadata": {
        "id": "view-in-github",
        "colab_type": "text"
      },
      "source": [
        "<a href=\"https://colab.research.google.com/github/yunhatsal/py/blob/main/CTAB_7_1.ipynb\" target=\"_parent\"><img src=\"https://colab.research.google.com/assets/colab-badge.svg\" alt=\"Open In Colab\"/></a>"
      ]
    },
    {
      "cell_type": "markdown",
      "source": [
        "1. 일한시간과 시급을 계산하여 출력하는 코드\n",
        "- 일한시간(hours_worked)\n",
        "- 일한날짜(day_worked)\n",
        "- 시급(pay_rate)\n",
        "- 월급(monthly_pay)"
      ],
      "metadata": {
        "id": "Mjt_o4Vxnw2j"
      }
    },
    {
      "cell_type": "code",
      "source": [
        "hours_worked = int(input(\"일한 시간을 입력하시오.: \"))  # 일한 시간을 입력받습니다.\n",
        "pay_rate = int(input(\"시급을 입력하시오.(23년 시급 9620): \"))   # 시급을 입력받습니다. (23년 시급 9620)\n",
        "day_worked = int(input(\"일한 날짜를 입력하시오.: \"))  # 일한 날짜를 입력받습니다.\n",
        "day_month = hours_worked * day_worked   # 월별 총 근무 시간을 계산합니다. (일한 시간 * 일한 날짜)\n",
        "monthly_pay = hours_worked * pay_rate * day_worked  # 월급여를 계산합니다. (일한 시간 * 시급 * 일한 날짜)\n",
        "print(f'일한 시간은 {hours_worked}시간이며, 시급은 {pay_rate}원이고, 월급여는 {monthly_pay}원입니다.')  # 결과를 출력합니다.\n"
      ],
      "metadata": {
        "colab": {
          "base_uri": "https://localhost:8080/"
        },
        "id": "HC6eS1lSpDuL",
        "outputId": "35467f38-35d2-4853-f727-130f646b51a5"
      },
      "execution_count": null,
      "outputs": [
        {
          "output_type": "stream",
          "name": "stdout",
          "text": [
            "일한 시간을 입력하시오.: 10\n",
            "시급을 입력하시오.(23년 시급 9620): 9620\n",
            "일한 날짜를 입력하시오.: 25\n",
            "일한 시간은 10시간이며, 시급은 9620원이고, 월급여는 2405000원입니다.\n"
          ]
        }
      ]
    },
    {
      "cell_type": "markdown",
      "source": [
        "이 코드는 사용자로부터 일한 시간, 시급, 일한 날짜를 입력받아서 월급여를 계산하고 출력합니다. 예를 들어, 사용자가 일한 시간으로 8시간, 시급으로 9620원, 일한 날짜로 20일을 입력했다면, 월급여는 8 * 9620 * 20 = 1,539,200원이 됩니다. 마지막으로 결과를 출력할 때는 f-string을 사용하여 변수의 값을 문자열에 삽입하였습니다.\n",
        "\n",
        "이렇게 코드를 작성하면 사용자가 일한 시간, 시급, 일한 날짜를 입력하면 월급여를 계산하여 출력할 수 있습니다."
      ],
      "metadata": {
        "id": "6KUn4iO26MJq"
      }
    },
    {
      "cell_type": "markdown",
      "source": [
        "2. 환전하는 코드를 작성\n",
        "- 변수 won, usd, exchange\n",
        "- 계산 won * usd"
      ],
      "metadata": {
        "id": "xVCMKiDxumq7"
      }
    },
    {
      "cell_type": "code",
      "source": [
        "usd = int(input(\"환전할 달러를 입력: \"))  # 환전할 달러를 입력받습니다.\n",
        "won = int(input(\"달러의 환율금액 입력(231031: 1372원)\"))  # 달러의 환율금액을 입력받습니다. (231031: 1372원)\n",
        "exchange = won * usd  # 환전 금액을 계산합니다. (환율 * 달러)\n",
        "print(f'환전하고 싶은 {usd}달러는 환율 {won}으로 계산해서, {exchange}원입니다.')   # 결과를 출력합니다.\n"
      ],
      "metadata": {
        "colab": {
          "base_uri": "https://localhost:8080/"
        },
        "id": "g7ufgpgqu8Uw",
        "outputId": "6e5088de-4c85-4326-a81c-ba8236242aa3"
      },
      "execution_count": null,
      "outputs": [
        {
          "output_type": "stream",
          "name": "stdout",
          "text": [
            "환전할 달러를 입력: 500\n",
            "달러의 환율금액 입력(231031: 1372원)1372\n",
            "환전하고 싶은 500달러는 환율 1372으로 계산해서, 686000원입니다.\n"
          ]
        }
      ]
    },
    {
      "cell_type": "markdown",
      "source": [
        "이 코드는 사용자로부터 환전할 달러와 달러의 환율금액을 입력받아서 해당 금액을 원화로 환전하고 결과를 출력합니다. 예를 들어, 사용자가 환전할 달러로 100달러, 환율으로 1372원을 입력했다면, 환전 금액은 100 * 1372 = 137,200원이 됩니다. 마지막으로 결과를 출력할 때는 f-string을 사용하여 변수의 값을 문자열에 삽입하였습니다.\n",
        "\n",
        "이렇게 코드를 작성하면 사용자가 환전할 달러와 환율을 입력하면 해당 금액을 원화로 환전하여 출력할 수 있습니다."
      ],
      "metadata": {
        "id": "KkB8uWI66wj9"
      }
    },
    {
      "cell_type": "markdown",
      "source": [
        "3. 화씨를 섭씨로, 섭씨를 화씨로 변경하는 코드\n",
        "- 화씨를 섭씨로 ℉ = ℃ * 1.8 + 32\n",
        "- 섭씨를 화씨로 ℃ = (℉- 32) / 1.8\n",
        "- 변수 화씨 fahrenheit, 섭씨 celsius"
      ],
      "metadata": {
        "id": "dNdUwZIaxxEQ"
      }
    },
    {
      "cell_type": "code",
      "source": [
        "fahrenheit = int(input(\"화씨를 입력하시오.: \"))   # 화씨 온도를 입력받습니다.\n",
        "celsius = (fahrenheit - 32) / 1.8   # 화씨를 섭씨로 변환하여 계산합니다. (화씨 - 32) / 1.8\n",
        "print(celsius)  # 섭씨 온도를 출력합니다."
      ],
      "metadata": {
        "colab": {
          "base_uri": "https://localhost:8080/"
        },
        "id": "IeRuYDp_zbi7",
        "outputId": "ab94861e-322a-49b9-a685-1b903c49e4ee"
      },
      "execution_count": null,
      "outputs": [
        {
          "output_type": "stream",
          "name": "stdout",
          "text": [
            "화씨를 입력하시오.: 100\n",
            "37.77777777777778\n"
          ]
        }
      ]
    },
    {
      "cell_type": "markdown",
      "source": [
        "이 코드는 사용자로부터 화씨 온도를 입력받아서 해당 온도를 섭씨 온도로 변환하고 출력합니다. 화씨를 섭씨로 변환하기 위해서는 화씨에서 32를 빼고 1.8로 나누면 됩니다. 예를 들어, 사용자가 화씨 온도로 95를 입력했다면, 섭씨 온도는 (95 - 32) / 1.8 = 35입니다.\n",
        "\n",
        "이렇게 코드를 작성하면 사용자가 화씨 온도를 입력하면 해당 온도를 섭씨 온도로 변환하여 출력할 수 있습니다."
      ],
      "metadata": {
        "id": "bPTNUfdq669K"
      }
    },
    {
      "cell_type": "code",
      "source": [
        "celsius = float(input(\"섭씨를 입력하시오.: \"))  # 섭씨 온도를 입력받습니다.\n",
        "fahrenheit = celsius * 1.8 + 32   # 섭씨를 화씨로 변환하여 계산합니다. (섭씨 * 1.8 + 32)\n",
        "print(fahrenheit)   # 화씨 온도를 출력합니다."
      ],
      "metadata": {
        "colab": {
          "base_uri": "https://localhost:8080/"
        },
        "id": "ubZTO76i0M35",
        "outputId": "2265ec35-59f3-4819-cd6f-e8da1467eb9b"
      },
      "execution_count": null,
      "outputs": [
        {
          "output_type": "stream",
          "name": "stdout",
          "text": [
            "섭씨를 입력하시오.: 37.77777777777778\n",
            "100.0\n"
          ]
        }
      ]
    },
    {
      "cell_type": "markdown",
      "source": [
        "이 코드는 사용자로부터 섭씨 온도를 입력받아서 해당 온도를 화씨 온도로 변환하고 출력합니다. 섭씨를 화씨로 변환하기 위해서는 섭씨에 1.8을 곱하고 32를 더하면 됩니다. 예를 들어, 사용자가 섭씨 온도로 25를 입력했다면, 화씨 온도는 25 * 1.8 + 32 = 77입니다.\n",
        "\n",
        "이렇게 코드를 작성하면 사용자가 섭씨 온도를 입력하면 해당 온도를 화씨 온도로 변환하여 출력할 수 있습니다."
      ],
      "metadata": {
        "id": "7eQ4Kc1g7L7S"
      }
    },
    {
      "cell_type": "code",
      "source": [],
      "metadata": {
        "id": "DV6j-9Cu1ogf"
      },
      "execution_count": null,
      "outputs": []
    }
  ]
}