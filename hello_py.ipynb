{
  "nbformat": 4,
  "nbformat_minor": 0,
  "metadata": {
    "colab": {
      "provenance": [],
      "authorship_tag": "ABX9TyMtdhAjSLwRQQDVo9zWYKJV",
      "include_colab_link": true
    },
    "kernelspec": {
      "name": "python3",
      "display_name": "Python 3"
    },
    "language_info": {
      "name": "python"
    }
  },
  "cells": [
    {
      "cell_type": "markdown",
      "metadata": {
        "id": "view-in-github",
        "colab_type": "text"
      },
      "source": [
        "<a href=\"https://colab.research.google.com/github/yunhatsal/py/blob/main/hello_py.ipynb\" target=\"_parent\"><img src=\"https://colab.research.google.com/assets/colab-badge.svg\" alt=\"Open In Colab\"/></a>"
      ]
    },
    {
      "cell_type": "code",
      "execution_count": null,
      "metadata": {
        "id": "GsL_nnWJHzpo"
      },
      "outputs": [],
      "source": [
        "Python 3.12.0 (tags/v3.12.0:0fb18b0, Oct  2 2023, 13:03:39) [MSC v.1935 64 bit (AMD64)] on win32\n",
        "Type \"help\", \"copyright\", \"credits\" or \"license()\" for more information.\n",
        "print(\"Hello World\")  # \"Hello World\"를 출력합니다.\n",
        "Hello World  # \"Hello World\" 문자열을 출력한 결과입니다.\n",
        "\"Hello World\"  # 큰 따옴표로 감싼 \"Hello World\" 문자열입니다.\n",
        "'Hello World'  # 작은 따옴표로 감싼 'Hello World' 문자열입니다.\n",
        "4+4  # 4와 4를 더한 결과값입니다.\n",
        "8  # 4와 4를 더한 결과인 8입니다.\n",
        "Hello World  # 코드로 해석할 수 없는 부분이므로 구문 오류가 발생합니다.\n",
        "SyntaxError: incomplete input"
      ]
    },
    {
      "cell_type": "markdown",
      "source": [
        "Python 3.12.0은 파이썬의 버전을 나타냅니다. (tags/v3.12.0:0fb18b0, Oct  2 2023, 13:03:39)은 해당 버전의 태그와 릴리즈 날짜, 시간을 나타냅니다. [MSC v.1935 64 bit (AMD64)] on win32는 파이썬이 실행되고 있는 운영체제 및 아키텍처를 나타냅니다.\n",
        "위 코드는 \"Hello World\"를 출력하는 코드입니다. print() 함수를 사용하여 괄호 안에 있는 문자열을 화면에 출력합니다.\n",
        "큰 따옴표로 감싼 \"Hello World\" 문자열입니다. 파이썬에서는 문자열을 큰 따옴표나 작은 따옴표로 표현할 수 있습니다.\n",
        "4와 4를 더하는 연산을 수행합니다.\n",
        "파이썬에서 코드로 해석할 수 없는 부분입니다. 따라서 구문 오류(SyntaxError)가 발생하게 됩니다.\n",
        "python\n",
        "SyntaxError: incomplete input\n",
        "위 오류는 구문 오류로, 파이썬에서 코드를 해석할 수 없는 부분이 있는 경우에 발생합니다. \"Hello World\" 다음에 추가적인 코드가 없는 경우에 발생하는 오류입니다."
      ],
      "metadata": {
        "id": "eR_7UjLnJ9is"
      }
    }
  ]
}