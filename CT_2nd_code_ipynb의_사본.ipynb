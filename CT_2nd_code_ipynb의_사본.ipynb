{
  "nbformat": 4,
  "nbformat_minor": 0,
  "metadata": {
    "colab": {
      "provenance": [],
      "authorship_tag": "ABX9TyNtfVPIA9DToq1f0dXaGkVH",
      "include_colab_link": true
    },
    "kernelspec": {
      "name": "python3",
      "display_name": "Python 3"
    },
    "language_info": {
      "name": "python"
    }
  },
  "cells": [
    {
      "cell_type": "markdown",
      "metadata": {
        "id": "view-in-github",
        "colab_type": "text"
      },
      "source": [
        "<a href=\"https://colab.research.google.com/github/yunhatsal/py/blob/main/CT_2nd_code_ipynb%EC%9D%98_%EC%82%AC%EB%B3%B8.ipynb\" target=\"_parent\"><img src=\"https://colab.research.google.com/assets/colab-badge.svg\" alt=\"Open In Colab\"/></a>"
      ]
    },
    {
      "cell_type": "markdown",
      "source": [
        "2. 사용자로부터 3개의 변수를 입력받아서 합을 구하고, 평균을 구하는 코드\n",
        " - 변수는 : n1,n2,n3,total,average\n"
      ],
      "metadata": {
        "id": "mZoalvr9lZI1"
      }
    },
    {
      "cell_type": "code",
      "execution_count": null,
      "metadata": {
        "colab": {
          "base_uri": "https://localhost:8080/"
        },
        "id": "aKERe0Q5k3kj",
        "outputId": "2ab50ae2-a436-41a9-8de5-19e3227d2cde"
      },
      "outputs": [
        {
          "output_type": "stream",
          "name": "stdout",
          "text": [
            "n1의 값을 입력하시오.: 10\n",
            "n2의 값을 입력하시오.: 20\n",
            "n3의 값을 입력하시오.: 30\n",
            "합계는: 60\n",
            "평균은: 20.0\n"
          ]
        }
      ],
      "source": [
        "n1 = int(input(\"n1의 값을 입력하시오.: \"))  # 사용자로부터 n1의 값을 입력받음\n",
        "n2 = int(input(\"n2의 값을 입력하시오.: \"))  # 사용자로부터 n2의 값을 입력받음\n",
        "n3 = int(input(\"n3의 값을 입력하시오.: \"))  # 사용자로부터 n3의 값을 입력받음\n",
        "total = n1 + n2 + n3  # 세 개의 숫자의 합계를 계산하여 total 변수에 저장\n",
        "print('합계는:', total)   # 합계를 출력\n",
        "average = total / 3   # 합계를 사용하여 평균을 계산하여 average 변수에 저장\n",
        "print('평균은:', average)   # 평균을 출력"
      ]
    },
    {
      "cell_type": "markdown",
      "source": [
        "이 코드는 사용자로부터 세 개의 값을 입력받아 합계와 평균을 계산하는 코드입니다. 각 줄에 주석을 추가하여 코드의 동작을 자세히 설명하였습니다.\n",
        "\n",
        "먼저, 사용자로부터 n1, n2, n3의 값을 입력받습니다. input() 함수를 사용하여 입력을 받고, int() 함수를 사용하여 입력받은 값을 정수로 변환하여 각각의 변수에 저장합니다.\n",
        "\n",
        "다음으로, 세 개의 숫자의 합계를 계산하기 위해 total 변수에 n1 + n2 + n3의 값을 저장합니다.\n",
        "\n",
        "그리고, 계산된 합계를 출력하기 위해 print() 함수를 사용하여 '합계는:' 문자열과 함께 total 변수의 값을 출력합니다.\n",
        "\n",
        "이어서, 합계를 사용하여 평균을 계산하기 위해 average 변수에 total / 3의 값을 저장합니다.\n",
        "\n",
        "마지막으로, 계산된 평균을 출력하기 위해 print() 함수를 사용하여 '평균은:' 문자열과 함께 average 변수의 값을 출력합니다.\n",
        "\n",
        "이렇게 코드를 작성하면 사용자로부터 세 개의 숫자를 입력받아 합계와 평균을 계산하여 출력할 수 있습니다."
      ],
      "metadata": {
        "id": "dLyoqM4Umb67"
      }
    }
  ]
}