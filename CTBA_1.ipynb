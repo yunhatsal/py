{
  "nbformat": 4,
  "nbformat_minor": 0,
  "metadata": {
    "colab": {
      "provenance": [],
      "authorship_tag": "ABX9TyPjNceSLbrnDK3xq/C3OtA2",
      "include_colab_link": true
    },
    "kernelspec": {
      "name": "python3",
      "display_name": "Python 3"
    },
    "language_info": {
      "name": "python"
    }
  },
  "cells": [
    {
      "cell_type": "markdown",
      "metadata": {
        "id": "view-in-github",
        "colab_type": "text"
      },
      "source": [
        "<a href=\"https://colab.research.google.com/github/yunhatsal/py/blob/main/CTBA_1.ipynb\" target=\"_parent\"><img src=\"https://colab.research.google.com/assets/colab-badge.svg\" alt=\"Open In Colab\"/></a>"
      ]
    },
    {
      "cell_type": "markdown",
      "source": [
        "1. 쇼핑몰의 배송료를 계산하는 코드작성\n",
        "- 사용하는 변수 : price, shipping_cost"
      ],
      "metadata": {
        "id": "c9_4-YHMbMSB"
      }
    },
    {
      "cell_type": "code",
      "source": [
        "print(\"상품의 가격을 입력하시오.\")  # 사용자에게 상품의 가격을 입력하라는 안내 메시지를 출력합니다.\n",
        "price = int(input(\"구입금액 입력: \"))  # 사용자로부터 구입금액을 입력받고 정수형으로 변환하여 변수 price에 저장합니다.\n",
        "if price > 20000:  # 만약 가격이 2만원을 초과하면\n",
        "    shipping_cost = 0  # 배송비를 0으로 설정합니다.\n",
        "    print(f'구입금액이 2만원 이상입니다.')  # \"구입금액이 2만원 이상입니다.\"라는 메시지를 출력합니다.\n",
        "else:  # 가격이 2만원 이하인 경우\n",
        "    shipping_cost = 3000  # 배송비를 3000으로 설정합니다.\n",
        "    print(f'구입금액이 2만원 이하입니다.')  # \"구입금액이 2만원 이하입니다.\"라는 메시지를 출력합니다.\n",
        "print(f'회원님의 배송비는 {shipping_cost}원 입니다.')  # 배송비를 출력합니다."
      ],
      "metadata": {
        "colab": {
          "base_uri": "https://localhost:8080/"
        },
        "id": "GlwIwJhTcxiF",
        "outputId": "541be55b-c68f-4df9-95a1-c4f3dee8ed91"
      },
      "execution_count": null,
      "outputs": [
        {
          "output_type": "stream",
          "name": "stdout",
          "text": [
            "상품의 가격을 입력하시오.\n",
            "구입금액 입력: 19900\n",
            "구입금액이 2만원 이하입니다.\n",
            "회원님의 배송비는 3000원 입니다.\n"
          ]
        }
      ]
    },
    {
      "cell_type": "markdown",
      "source": [
        "위 코드는 사용자로부터 상품의 가격을 입력받아서 해당 가격에 따라 배송비를 계산하고 출력하는 코드입니다. 가격이 2만원 이상이면 배송비를 0으로 설정하고, 가격이 2만원 이하이면 배송비를 3000으로 설정합니다. 마지막으로 배송비를 출력합니다."
      ],
      "metadata": {
        "id": "bqKOnxdL8Xtq"
      }
    },
    {
      "cell_type": "markdown",
      "source": [
        "2. 학생으로부터 성적을 입력받아 합격유무를 출력하는 코드\n",
        "- 사용변수 : grade"
      ],
      "metadata": {
        "id": "_MIEX06Xgq-K"
      }
    },
    {
      "cell_type": "code",
      "source": [
        "print(\"성적을 입력하시오.\")  # 사용자에게 성적을 입력하라는 안내 메시지를 출력합니다.\n",
        "grade = int(input(\"성적입력: \"))  # 사용자로부터 성적을 입력받고 정수형으로 변환하여 변수 grade에 저장합니다.\n",
        "if grade >= 70:  # 성적이 70 이상이면\n",
        "    print(f'70점 이상이므로 합격입니다.')  # \"70점 이상이므로 합격입니다.\"라는 메시지를 출력합니다.\n",
        "    print(\"축하합니다. 합격입니다.\")  # \"축하합니다. 합격입니다.\"라는 메시지를 출력합니다.\n",
        "else:  # 성적이 70 미만인 경우\n",
        "    print(f'70점 이하이므로 불합격입니다.')  # \"70점 이하이므로 불합격입니다.\"라는 메시지를 출력합니다.\n",
        "    print(\"아쉽군요. 다시 한번 도전하세요.\")  # \"아쉽군요. 다시 한번 도전하세요.\"라는 메시지를 출력합니다."
      ],
      "metadata": {
        "colab": {
          "base_uri": "https://localhost:8080/"
        },
        "id": "nHh39VGxhADl",
        "outputId": "df1b71cb-9f83-480e-aa93-73eececea2fb"
      },
      "execution_count": null,
      "outputs": [
        {
          "output_type": "stream",
          "name": "stdout",
          "text": [
            "성적을 입력하시오.\n",
            "성적입력: 60\n",
            "70점 이하이므로 불합격입니다.\n",
            "아쉽군요. 다시 한번 도전하세요.\n"
          ]
        }
      ]
    },
    {
      "cell_type": "markdown",
      "source": [
        "위 코드는 사용자로부터 성적을 입력받아서 해당 성적에 따라 합격 여부를 출력하는 코드입니다. 성적이 70 이상이면 \"합격입니다.\"와 \"축하합니다. 합격입니다.\"라는 메시지를 출력하고, 성적이 70 미만이면 \"불합격입니다.\"와 \"아쉽군요. 다시 한번 도전하세요.\"라는 메시지를 출력합니다."
      ],
      "metadata": {
        "id": "sd_cOSPO8pJK"
      }
    },
    {
      "cell_type": "markdown",
      "source": [
        "3. 근무시간에 따라 초과근무와 정상근무를 판별하는 코드\n",
        "- work_hour\n",
        "- 연산코드 work_hour > 72"
      ],
      "metadata": {
        "id": "g-eBxp9ahwWR"
      }
    },
    {
      "cell_type": "code",
      "source": [
        "print(\"근무시간을 입력하시오.\")  # 사용자에게 근무시간을 입력하라는 안내 메시지를 출력합니다.\n",
        "work_hour = int(input(\"근무시간 입력: \"))  # 사용자로부터 근무시간을 입력받고 정수형으로 변환하여 변수 work_hour에 저장합니다.\n",
        "if work_hour > 72:  # 근무시간이 72를 초과하면\n",
        "    print(\"￣\"*9)  # \"￣\" 문자를 9번 반복하여 출력합니다.\n",
        "    print(f'｜ 초과근무입니다.｜')  # \"｜ 초과근무입니다.｜\"라는 메시지를 출력합니다.\n",
        "    print(\"―\"*9)  # \"―\" 문자를 9번 반복하여 출력합니다.\n",
        "else:  # 근무시간이 72 이하인 경우\n",
        "    print(\"￣\"*9)  # \"￣\" 문자를 9번 반복하여 출력합니다.\n",
        "    print(f'｜ 정상근무입니다.｜')  # \"｜ 정상근무입니다.｜\"라는 메시지를 출력합니다.\n",
        "    print(\"―\"*9)  # \"―\" 문자를 9번 반복하여 출력합니다."
      ],
      "metadata": {
        "colab": {
          "base_uri": "https://localhost:8080/"
        },
        "id": "komaMC_Ih-dx",
        "outputId": "359d954e-1fe8-4137-822d-81984422cd26"
      },
      "execution_count": null,
      "outputs": [
        {
          "output_type": "stream",
          "name": "stdout",
          "text": [
            "근무시간을 입력하시오.\n",
            "근무시간 입력: 75\n",
            "￣￣￣￣￣￣￣￣￣\n",
            "｜ 초과근무입니다.｜\n",
            "―――――――――\n"
          ]
        }
      ]
    },
    {
      "cell_type": "markdown",
      "source": [
        "위 코드는 사용자로부터 근무시간을 입력받아서 해당 근무시간에 따라 정상근무 여부를 출력하는 코드입니다. 근무시간이 72를 초과하면 \"초과근무입니다.\"라는 메시지를 출력하고, 근무시간이 72 이하인 경우 \"정상근무입니다.\"라는 메시지를 출력합니다. 출력할 때는 \"￣\" 문자와 \"｜\", \"―\" 문자를 활용하여 상자 모양의 효과를 줬습니다."
      ],
      "metadata": {
        "id": "Itvgdyh084NS"
      }
    },
    {
      "cell_type": "markdown",
      "source": [
        "4. 짝수와 홀수를 판별하는 코드\n",
        "- 사용변수 : _ num _\n",
        "- 수식 : (_ num _ % 2) !=0:"
      ],
      "metadata": {
        "id": "rfNFvxuwl9ul"
      }
    },
    {
      "cell_type": "code",
      "source": [
        "print(\"정수를 입력하시오.\")  # 사용자에게 정수를 입력하라는 안내 메시지를 출력합니다.\n",
        "_num_ = int(input(\"정수 입력: \"))  # 사용자로부터 정수를 입력받고 정수형으로 변환하여 변수 _num_에 저장합니다.\n",
        "if (_num_ % 2) != 0:  # 입력한 정수가 2로 나누었을 때 나머지가 0이 아니면 (홀수이면)\n",
        "    print(f'입력하신 {_num_}은 홀수입니다.')  # \"입력하신 {_num_}은 홀수입니다.\"라는 메시지를 출력합니다.\n",
        "else:  # 입력한 정수가 2로 나누었을 때 나머지가 0인 경우 (짝수이면)\n",
        "    print(f'입력하신 {_num_}은 짝수입니다.')  # \"입력하신 {_num_}은 짝수입니다.\"라는 메시지를 출력합니다."
      ],
      "metadata": {
        "colab": {
          "base_uri": "https://localhost:8080/"
        },
        "id": "J2-MSVn4mZA2",
        "outputId": "61535162-e692-4e64-b6e8-3f0b9a0216a6"
      },
      "execution_count": null,
      "outputs": [
        {
          "output_type": "stream",
          "name": "stdout",
          "text": [
            "정수를 입력하시오.\n",
            "정수 입력: 8\n",
            "입력하신 8은 짝수입니다.\n"
          ]
        }
      ]
    },
    {
      "cell_type": "markdown",
      "source": [
        "위 코드는 사용자로부터 정수를 입력받아서 해당 정수가 홀수인지 짝수인지를 판단하여 출력하는 코드입니다. 입력한 정수를 2로 나누었을 때 나머지가 0이 아니면 홀수로 판단하고, 그렇지 않으면 짝수로 판단합니다. 홀수인 경우 \"입력하신 {num}은 홀수입니다.\"라는 메시지를 출력하고, 짝수인 경우 \"입력하신 {num}은 짝수입니다.\"라는 메시지를 출력합니다."
      ],
      "metadata": {
        "id": "cirmPOQL9DDx"
      }
    },
    {
      "cell_type": "markdown",
      "source": [
        "5. 사용자의 이름과 나이를 물어보고, 답변하는 코드\n",
        "- 사용변수 : name, age\n",
        "- 출력할 내용 :\n",
        "  - 성명\n",
        "  - 나이 : 20\n",
        "  - (1)20이하 : 프로그래밍을 배우는 최적의 나이입니다.\n",
        "  - (2)20이상 : 아직도 늦지 않았습니다."
      ],
      "metadata": {
        "id": "moy7oMMOnHVX"
      }
    },
    {
      "cell_type": "code",
      "source": [
        "print(\"당신의 이름과 나이를 입력하시오.\")  # 사용자에게 이름과 나이를 입력하라는 안내 메시지를 출력합니다.\n",
        "name = input(\"이름: \")  # 사용자로부터 이름을 입력받아 변수 name에 저장합니다.\n",
        "age = int(input(\"나이: \"))  # 사용자로부터 나이를 입력받고 정수형으로 변환하여 변수 age에 저장합니다.\n",
        "if age <= 20:  # 나이가 20 이하이면\n",
        "    print(f'프로그래밍을 배우는 최적의 나이입니다.')  # \"프로그래밍을 배우는 최적의 나이입니다.\"라는 메시지를 출력합니다.\n",
        "else:  # 나이가 20 초과인 경우\n",
        "    print(f'아직도 늦지 않았습니다.')  # \"아직도 늦지 않았습니다.\"라는 메시지를 출력합니다."
      ],
      "metadata": {
        "colab": {
          "base_uri": "https://localhost:8080/"
        },
        "id": "vS_K7JWRn35M",
        "outputId": "e504e4f9-ce8e-4647-8a3a-e8c9642b3dd8"
      },
      "execution_count": null,
      "outputs": [
        {
          "output_type": "stream",
          "name": "stdout",
          "text": [
            "당신의 이름과 나이를 입력하시오.\n",
            "이름: 윤햇살\n",
            "나이: 20\n",
            "프로그래밍을 배우는 최적의 나이입니다.\n"
          ]
        }
      ]
    },
    {
      "cell_type": "markdown",
      "source": [
        "위 코드는 사용자로부터 이름과 나이를 입력받아서 나이에 따라 메시지를 출력하는 코드입니다. 만약 입력한 나이가 20 이하이면 \"프로그래밍을 배우는 최적의 나이입니다.\"라는 메시지를 출력하고, 나이가 20 초과인 경우 \"아직도 늦지 않았습니다.\"라는 메시지를 출력합니다."
      ],
      "metadata": {
        "id": "EVBHZBWW9ZgZ"
      }
    }
  ]
}